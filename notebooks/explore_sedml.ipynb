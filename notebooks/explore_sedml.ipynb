{
 "cells": [
  {
   "cell_type": "markdown",
   "id": "e373ebfe-6469-4661-9db4-74bc0fbff0a9",
   "metadata": {},
   "source": [
    "# EXPLORE SEDML"
   ]
  },
  {
   "cell_type": "code",
   "execution_count": 10,
   "id": "2c4f1fb3-a377-4f5e-890a-fd228e8f998f",
   "metadata": {},
   "outputs": [],
   "source": [
    "import tellurium as te\n",
    "te.setDefaultPlottingEngine('matplotlib')\n",
    "import phrasedml\n",
    "import tempfile\n",
    "import os"
   ]
  },
  {
   "cell_type": "markdown",
   "id": "9f49fdac-8b3d-42dc-baa0-5ff86486f885",
   "metadata": {},
   "source": [
    "# Helpers"
   ]
  },
  {
   "cell_type": "code",
   "execution_count": 41,
   "id": "a68691f9-90ce-488d-9f73-ee18a5f5998e",
   "metadata": {},
   "outputs": [],
   "source": [
    "test_antimony_str = '''\n",
    "model test_myModel\n",
    "  S1 -> S2; k1*S1\n",
    "  S2 -> S1; k2*S2\n",
    "  S1 = 10; S2 = 0\n",
    "  k1 = 1\n",
    "  k2 = 2\n",
    "end\n",
    "'''\n",
    "MODEL_FILE = \"/tmp/test_myModel\"\n",
    "sbml_str = te.antimonyToSBML(antimony_str)\n",
    "with open(MODEL_FILE, 'w') as f:\n",
    "    f.writelines(sbml_str)"
   ]
  },
  {
   "cell_type": "code",
   "execution_count": 45,
   "id": "e2afd2df-0a20-4a4a-b8ef-3c91c6b99c21",
   "metadata": {},
   "outputs": [
    {
     "name": "stdout",
     "output_type": "stream",
     "text": [
      "OK!\n"
     ]
    }
   ],
   "source": [
    "def makeSBMLFile(antimony_str:str, filename:str)->str:\n",
    "    path = os.path.join(\"/tmp\", filename)\n",
    "    sbml_str = te.antimonyToSBML(antimony_str)\n",
    "    with open(path, 'w') as f:\n",
    "        f.writelines(sbml_str)\n",
    "    return path\n",
    "\n",
    "# Tests\n",
    "path = makeSBMLFile(test_antimony_str, \"test_file\")\n",
    "assert(os.path.exists(path))\n",
    "print(\"OK!\")"
   ]
  },
  {
   "cell_type": "code",
   "execution_count": 2,
   "id": "cee130cf-68ca-47e7-9201-53cf7f4e253d",
   "metadata": {},
   "outputs": [],
   "source": [
    "def execute(phrasedml_str:str):\n",
    "    \"\"\"\n",
    "    Executes a phrasedml string\n",
    "    \"\"\"\n",
    "    sedml_str = phrasedml.convertString(phrasedml_str)\n",
    "    if sedml_str is None:\n",
    "        print(phrasedml.getLastError())\n",
    "        df = None\n",
    "    else:\n",
    "        te.executeSEDML(sedml_str)\n",
    "        df = te.getLastReport()\n",
    "    return df\n",
    "\n",
    "# Tests\n",
    "#execute(phrasedml_str)"
   ]
  },
  {
   "cell_type": "markdown",
   "id": "0c39bd15-8726-4423-8c6a-da164def9145",
   "metadata": {},
   "source": [
    "# phrasedml basics"
   ]
  },
  {
   "cell_type": "code",
   "execution_count": 3,
   "id": "b91e32f9-7bfd-4e55-a0fd-0d1970efd535",
   "metadata": {},
   "outputs": [],
   "source": [
    "antimony_str = '''\n",
    "model myModel\n",
    "  S1 -> S2; k1*S1\n",
    "  S2 -> S1; k2*S2\n",
    "  S1 = 10; S2 = 0\n",
    "  k1 = 1\n",
    "  k2 = 2\n",
    "end\n",
    "'''\n",
    "MODEL_FILE = \"/tmp/myModel\"\n",
    "sbml_str = te.antimonyToSBML(antimony_str)\n",
    "with open(MODEL_FILE, 'w') as f:\n",
    "    f.writelines(sbml_str)"
   ]
  },
  {
   "cell_type": "code",
   "execution_count": 4,
   "id": "43b4e327-944b-4123-a29a-b58a67cc5f3d",
   "metadata": {},
   "outputs": [],
   "source": [
    "rr = te.loada(antimony_str)"
   ]
  },
  {
   "cell_type": "code",
   "execution_count": 5,
   "id": "fb012062-46b2-4cc4-884a-d9521be8753e",
   "metadata": {},
   "outputs": [],
   "source": [
    "phrasedml_str = '''\n",
    "  model1 = model \"/tmp/myModel\" with k1 =5;\n",
    "  model2 = model model1 with k1 =6\n",
    "  sim1 = simulate uniform(0, 5, 100)\n",
    "  task1 = run sim1 on model1\n",
    "  plot \"Figure 2\" time vs S1, S2\n",
    "'''"
   ]
  },
  {
   "cell_type": "code",
   "execution_count": 6,
   "id": "054bf390-504b-4ad4-a218-d722cd69c54f",
   "metadata": {},
   "outputs": [
    {
     "name": "stdout",
     "output_type": "stream",
     "text": [
      "<?xml version=\"1.0\" encoding=\"UTF-8\"?>\n",
      "<!-- Created by phraSED-ML version v1.3.0 with libSBML version 5.19.5. -->\n",
      "<sedML xmlns=\"http://sed-ml.org/sed-ml/level1/version4\" xmlns:sbml=\"http://www.sbml.org/sbml/level3/version2/core\" level=\"1\" version=\"4\">\n",
      "  <listOfModels>\n",
      "    <model id=\"model1\" language=\"urn:sedml:language:sbml.level-3.version-2\" source=\"/tmp/myModel\">\n",
      "      <listOfChanges>\n",
      "        <changeAttribute target=\"/sbml:sbml/sbml:model/sbml:listOfParameters/sbml:parameter[@id='k1']/@value\" newValue=\"5\"/>\n",
      "      </listOfChanges>\n",
      "    </model>\n",
      "    <model id=\"model2\" language=\"urn:sedml:language:sbml.level-3.version-2\" source=\"model1\">\n",
      "      <listOfChanges>\n",
      "        <changeAttribute target=\"/sbml:sbml/sbml:model/sbml:listOfParameters/sbml:parameter[@id='k1']/@value\" newValue=\"6\"/>\n",
      "      </listOfChanges>\n",
      "    </model>\n",
      "  </listOfModels>\n",
      "  <listOfSimulations>\n",
      "    <uniformTimeCourse id=\"sim1\" initialTime=\"0\" outputStartTime=\"0\" outputEndTime=\"5\" numberOfSteps=\"100\">\n",
      "      <algorithm name=\"CVODE\" kisaoID=\"KISAO:0000019\"/>\n",
      "    </uniformTimeCourse>\n",
      "  </listOfSimulations>\n",
      "  <listOfTasks>\n",
      "    <task id=\"task1\" modelReference=\"model1\" simulationReference=\"sim1\"/>\n",
      "  </listOfTasks>\n",
      "  <listOfDataGenerators>\n",
      "    <dataGenerator id=\"plot_0_0_0\" name=\"time\">\n",
      "      <math xmlns=\"http://www.w3.org/1998/Math/MathML\">\n",
      "        <ci> time </ci>\n",
      "      </math>\n",
      "      <listOfVariables>\n",
      "        <variable id=\"time\" symbol=\"urn:sedml:symbol:time\" taskReference=\"task1\" modelReference=\"model1\"/>\n",
      "      </listOfVariables>\n",
      "    </dataGenerator>\n",
      "    <dataGenerator id=\"plot_0_0_1\" name=\"S1\">\n",
      "      <math xmlns=\"http://www.w3.org/1998/Math/MathML\">\n",
      "        <ci> S1 </ci>\n",
      "      </math>\n",
      "      <listOfVariables>\n",
      "        <variable id=\"S1\" target=\"/sbml:sbml/sbml:model/sbml:listOfSpecies/sbml:species[@id='S1']\" taskReference=\"task1\" modelReference=\"model1\"/>\n",
      "      </listOfVariables>\n",
      "    </dataGenerator>\n",
      "    <dataGenerator id=\"plot_0_1_1\" name=\"S2\">\n",
      "      <math xmlns=\"http://www.w3.org/1998/Math/MathML\">\n",
      "        <ci> S2 </ci>\n",
      "      </math>\n",
      "      <listOfVariables>\n",
      "        <variable id=\"S2\" target=\"/sbml:sbml/sbml:model/sbml:listOfSpecies/sbml:species[@id='S2']\" taskReference=\"task1\" modelReference=\"model1\"/>\n",
      "      </listOfVariables>\n",
      "    </dataGenerator>\n",
      "  </listOfDataGenerators>\n",
      "  <listOfOutputs>\n",
      "    <plot2D id=\"plot_0\" name=\"Figure 2\">\n",
      "      <listOfCurves>\n",
      "        <curve id=\"plot_0__plot_0_0_0__plot_0_0_1\" logX=\"false\" xDataReference=\"plot_0_0_0\" logY=\"false\" yDataReference=\"plot_0_0_1\"/>\n",
      "        <curve id=\"plot_0__plot_0_0_0__plot_0_1_1\" logX=\"false\" xDataReference=\"plot_0_0_0\" logY=\"false\" yDataReference=\"plot_0_1_1\"/>\n",
      "      </listOfCurves>\n",
      "    </plot2D>\n",
      "  </listOfOutputs>\n",
      "</sedML>\n",
      "\n"
     ]
    },
    {
     "data": {
      "image/png": "[encoded data removed]",
      "text/plain": [
       "<Figure size 900x600 with 1 Axes>"
      ]
     },
     "metadata": {},
     "output_type": "display_data"
    }
   ],
   "source": [
    "#plot \"Figure 1\" time vs S1, S2\n",
    "\n",
    "# create the sedml xml string from the phrasedml\n",
    "#sbml_str = te.antimonyToSBML(antimony_str)\n",
    "phrasedml.setReferencedSBML(MODEL_FILE, sbml_str)\n",
    "\n",
    "sedml_str = phrasedml.convertString(phrasedml_str)\n",
    "if sedml_str == None:\n",
    "    print(phrasedml.getLastError())\n",
    "print(sedml_str)\n",
    "te.executeSEDML(sedml_str)"
   ]
  },
  {
   "cell_type": "markdown",
   "id": "55c97187-bfe7-4121-9dad-d8ef27a6fdd2",
   "metadata": {},
   "source": [
    "# Tasks for SimpleSEDML"
   ]
  },
  {
   "cell_type": "markdown",
   "id": "18cca7e8-7637-46b9-a74a-24aa0eb074ff",
   "metadata": {},
   "source": [
    "1. Run a simulation with changed parameter values\n",
    "2. Parameter scan\n",
    "3. Compare the output from two different models\n",
    "4. Compare simulation results with data"
   ]
  },
  {
   "cell_type": "markdown",
   "id": "d51723be-cc66-437a-aede-6807c498f8ab",
   "metadata": {},
   "source": [
    "# Repeated tasks in phrasedml"
   ]
  },
  {
   "cell_type": "code",
   "execution_count": 38,
   "id": "c53c2c65-c23a-43cb-9f5a-0614beb79a01",
   "metadata": {},
   "outputs": [
    {
     "name": "stdout",
     "output_type": "stream",
     "text": [
      "SBML written to temporary file\n"
     ]
    },
    {
     "data": {
      "image/png": "[encoded data removed]",
      "text/plain": [
       "<Figure size 900x600 with 1 Axes>"
      ]
     },
     "metadata": {},
     "output_type": "display_data"
    },
    {
     "data": {
      "image/png": "[encoded data removed]",
      "text/plain": [
       "<Figure size 900x600 with 1 Axes>"
      ]
     },
     "metadata": {},
     "output_type": "display_data"
    }
   ],
   "source": [
    "import tellurium as te\n",
    "import phrasedml\n",
    "\n",
    "# Define model with Antimony\n",
    "antimony_str = '''\n",
    "\n",
    "model anotherModel\n",
    "   A -> B; 1\n",
    "   A = 10\n",
    "   B = 1\n",
    "end\n",
    "\n",
    "model enzymeKinetics\n",
    "    // Compartment\n",
    "    compartment C = 1.0;\n",
    "    \n",
    "    // Species\n",
    "    species S in C = 10.0;\n",
    "    species E in C = 1.0;\n",
    "    species ES in C = 0.0;\n",
    "    species P in C = 0.0;\n",
    "    \n",
    "    // Reactions\n",
    "    J1: S + E -> ES; k1*S*E;\n",
    "    J2: ES -> S + E; k2*ES;\n",
    "    J3: ES -> P + E; k3*ES;\n",
    "    \n",
    "    // Parameters\n",
    "    k1 = 0.1;\n",
    "    k2 = 0.05;\n",
    "    k3 = 0.1;\n",
    "end\n",
    "'''\n",
    "\n",
    "# Convert to SBML\n",
    "sbml_str = te.antimonyToSBML(antimony_str)\n",
    "\n",
    "# Define PhraSEDML with repeated tasks for parameter sweep\n",
    "phrasedml_str = '''\n",
    "    // Reference the model\n",
    "    model1 = model \"enzymeKinetics\"\n",
    "    \n",
    "    // Define base simulation\n",
    "    sim1 = simulate uniform(0, 100, 100)\n",
    "    sim1 = simulate steadystate\n",
    "    \n",
    "    // Define base task\n",
    "    task0 = run sim1 on model1\n",
    "    \n",
    "    // Define repeated task - vary k3 parameter\n",
    "    task1 = repeat task0 for k3 in [0.05, 0.1, 0.2, 0.5], reset=true\n",
    "    \n",
    "    // Plot results\n",
    "    plot \"Product formation with different k3 values\" task1.k3 vs task1.P\n",
    "    // Add model variable and parameter for reference in the legend\n",
    "    plot task1.time vs task1.S, task1.E, task1.ES, task1.k3\n",
    "'''\n",
    "\n",
    "\n",
    "workingDir = tempfile.mkdtemp(suffix=\"_sedml\")\n",
    "\n",
    "sbml_file = os.path.join(workingDir, 'enzymeKinetics')\n",
    "sedml_file = os.path.join(workingDir, 'sed_main.xml')\n",
    "\n",
    "with open(sbml_file, 'wb') as f:\n",
    "    f.write(sbml_str.encode('utf-8'))\n",
    "    f.flush()\n",
    "    print('SBML written to temporary file')\n",
    "\n",
    "# Set model reference\n",
    "phrasedml.setReferencedSBML(\"enzymeKinetics\", sbml_str)\n",
    "\n",
    "# Convert to SED-ML\n",
    "sedml_str = phrasedml.convertString(phrasedml_str)\n",
    "\n",
    "# Execute simulation\n",
    "if sedml_str:\n",
    "    te.executeSEDML(sedml_str, workingDir=workingDir)\n",
    "else:\n",
    "    print(phrasedml.getLastPhrasedError())"
   ]
  },
  {
   "cell_type": "code",
   "execution_count": null,
   "id": "d8beca0e-1ae2-49b7-b174-8526fd9b2354",
   "metadata": {},
   "outputs": [],
   "source": [
    "?phrasedml.convertString"
   ]
  },
  {
   "cell_type": "code",
   "execution_count": null,
   "id": "2ff0e5e5-1666-4d42-b3bd-8ba4ed2e8eee",
   "metadata": {},
   "outputs": [],
   "source": [
    "!ls -l /var/folders/02/lb248q1j50dch2pthzkvxmpr0000gn/T/tmp1zug2qoa_sedml"
   ]
  },
  {
   "cell_type": "code",
   "execution_count": null,
   "id": "293cf405-4571-4332-9ac8-80f7bb291796",
   "metadata": {},
   "outputs": [],
   "source": [
    "rr = te.loadSBMLModel(sbml_str)\n",
    "rr.simulate()\n",
    "rr.plot()"
   ]
  },
  {
   "cell_type": "code",
   "execution_count": null,
   "id": "0bf12650-aa8f-484a-9044-44978e9793b6",
   "metadata": {},
   "outputs": [],
   "source": [
    "print(phrasedml_str)"
   ]
  },
  {
   "cell_type": "code",
   "execution_count": null,
   "id": "56585160-9974-40a0-87ee-4516063a3fd4",
   "metadata": {},
   "outputs": [],
   "source": [
    "print(sedml_str)"
   ]
  },
  {
   "cell_type": "markdown",
   "id": "cc0fba05-8230-4164-bccb-a293fe64cd9e",
   "metadata": {},
   "source": [
    "# Using Phrasedml generated from Claude"
   ]
  },
  {
   "cell_type": "code",
   "execution_count": null,
   "id": "9ad804f2-4172-4407-b7d4-4a358157bf8f",
   "metadata": {},
   "outputs": [],
   "source": [
    "!ls /Users/jlheller/home/Technical/repos/SBMLModel/data/*206*"
   ]
  },
  {
   "cell_type": "code",
   "execution_count": null,
   "id": "152b543e-1ddd-4d16-abf0-de40799da777",
   "metadata": {},
   "outputs": [],
   "source": [
    "# Step 1: Reference the model\n",
    "phrasedml.setWorkingDirectory(\"/Users/jlheller/home/Technical/repos/SBMLModel/data\")\n",
    "phrasedml_str = \"\"\"\n",
    "model1 = model \"BIOMD0000000206.xml\"\n",
    "sim1 = simulate uniform(0, 10, 100)  # 0 to 10 seconds with 100 time points\n",
    "task1 = run sim1 on model1\n",
    "plot \"BioModel 206 Simulation\" time vs s1, s5\n",
    "\"\"\""
   ]
  },
  {
   "cell_type": "code",
   "execution_count": null,
   "id": "3e5551a5-ca60-4fb1-b1f7-2f35f564078a",
   "metadata": {},
   "outputs": [],
   "source": [
    "phrasedml_str = phrasedml.convertString(phrasedml_str)\n",
    "if len(phrasedml.getLastError()) > 0:\n",
    "    print(phrasedml.getLastError())"
   ]
  },
  {
   "cell_type": "markdown",
   "id": "5efb3448-5998-4f43-aebc-e345e8abf724",
   "metadata": {},
   "source": [
    "# Source is HTTP"
   ]
  },
  {
   "cell_type": "code",
   "execution_count": null,
   "id": "b73a6a4c-c132-4122-82b4-3469e8cc83ef",
   "metadata": {},
   "outputs": [],
   "source": [
    "URL = \"https://www.ebi.ac.uk/biomodels/services/download/get-files/MODEL3352181362/3/BIOMD0000000206_url.xml\"\n",
    "MODEL = \"Wolf2000_Glycolytic_Oscillations\""
   ]
  },
  {
   "cell_type": "code",
   "execution_count": null,
   "id": "29d936e8-ef77-44b1-8790-1e498776c45c",
   "metadata": {},
   "outputs": [],
   "source": [
    "rr = te.loadSBMLModel(URL)\n",
    "wolf_sbml_str = rr.getSBML()"
   ]
  },
  {
   "cell_type": "code",
   "execution_count": null,
   "id": "48424a11-7e14-4b5e-b5de-0f2fb4622b48",
   "metadata": {},
   "outputs": [],
   "source": [
    "phrasedml_str = '''\n",
    "  model1 = model \"/tmp/myModel\"\n",
    "  sim1 = simulate uniform(0, 10, 100); sim1.algorithm=CVODE\n",
    "  task1 = run sim1 on model1\n",
    "  plot \"Figure 2\" time vs S1, S2\n",
    "'''"
   ]
  },
  {
   "cell_type": "code",
   "execution_count": null,
   "id": "6bec7070-dfc5-4445-9efc-b98a8bd161f2",
   "metadata": {},
   "outputs": [],
   "source": [
    "print(phrasedml_str)"
   ]
  },
  {
   "cell_type": "code",
   "execution_count": null,
   "id": "8803a987-575a-4064-9fd6-08a34cefcaa6",
   "metadata": {},
   "outputs": [],
   "source": [
    "# create the sedml xml string from the phrasedml\n",
    "phrasedml.setReferencedSBML(MODEL, URL)\n",
    "\n",
    "sedml_str = phrasedml.convertString(phrasedml_str)\n",
    "if sedml_str == None:\n",
    "    print(phrasedml.getLastError())\n",
    "print(sedml_str)"
   ]
  },
  {
   "cell_type": "markdown",
   "id": "b2a3d8f8-0ef9-438c-b8f4-37c5b5b2efeb",
   "metadata": {},
   "source": [
    "# Report"
   ]
  },
  {
   "cell_type": "markdown",
   "id": "b256dbe2-f32c-4de4-bd65-4ce7688ceab5",
   "metadata": {},
   "source": [
    "## Simple report"
   ]
  },
  {
   "cell_type": "code",
   "execution_count": null,
   "id": "6b83fabf-3cd3-44d5-8f89-7e2eb4dcee3d",
   "metadata": {},
   "outputs": [],
   "source": [
    "antimony_str = '''\n",
    "model myModel\n",
    "  S1 -> S2; k1*S1\n",
    "  S1 = 10; S2 = 0\n",
    "  k1 = 1\n",
    "end\n",
    "'''"
   ]
  },
  {
   "cell_type": "code",
   "execution_count": null,
   "id": "8754b336-914d-4839-af29-0a8864bbc3ab",
   "metadata": {},
   "outputs": [],
   "source": [
    "# FIXME: Must be written as bytes\n",
    "sbml_str = te.antimonyToSBML(antimony_str)\n",
    "with open(\"/tmp/myModel\", 'wb') as f:\n",
    "        f.write(sbml_str.encode('utf-8'))\n",
    "        f.flush()\n",
    "        print('SBML written to temporary file')"
   ]
  },
  {
   "cell_type": "code",
   "execution_count": null,
   "id": "08b1175f-0fbe-45e4-a435-8328bb0cdacc",
   "metadata": {},
   "outputs": [],
   "source": [
    "# repeated_task = repeat task1 for k1 in [1, 3, 5], reset=true\n",
    "phrasedml_str = '''\n",
    "  model1 = model \"/tmp/myModel\"\n",
    "  sim1 = simulate uniform(0, 5, 100)\n",
    "  task1 = run sim1 on model1\n",
    "  //report task1.time, task1.S1, task1.S2\n",
    "  report \"Concentration over Time\" time, S1, S2\n",
    "'''"
   ]
  },
  {
   "cell_type": "code",
   "execution_count": null,
   "id": "651c1e40-4c7d-418b-bff8-d9e740bfd4aa",
   "metadata": {},
   "outputs": [],
   "source": [
    "#plot \"Figure 1\" time vs S1, S2\n",
    "\n",
    "# create the sedml xml string from the phrasedml\n",
    "#phrasedml.setReferencedSBML(\"/tmp/myModel\", sbml_str)\n",
    "\n",
    "sedml_str = phrasedml.convertString(phrasedml_str)\n",
    "if sedml_str == None:\n",
    "    print(phrasedml.getLastError())\n",
    "else:\n",
    "    print(sedml_str)\n",
    "    phrasedml.setWorkingDirectory(os.getcwd())\n",
    "    te.executeSEDML(sedml_str)\n",
    "    print(te.getLastReport())"
   ]
  },
  {
   "cell_type": "code",
   "execution_count": null,
   "id": "e754b86e-ab4d-4871-9cba-f8a9ff4a91f7",
   "metadata": {},
   "outputs": [],
   "source": [
    "dir(te)"
   ]
  },
  {
   "cell_type": "code",
   "execution_count": null,
   "id": "47150f9a-9673-48b2-9eae-eec30e55867d",
   "metadata": {},
   "outputs": [],
   "source": [
    "?te.experiment"
   ]
  },
  {
   "cell_type": "markdown",
   "id": "3e9779d4-3124-4043-87be-0af98c7f8e06",
   "metadata": {},
   "source": [
    "## Repeated task"
   ]
  },
  {
   "cell_type": "code",
   "execution_count": null,
   "id": "3c08bb0f-e3f0-4a5e-9ca8-4b4820fc8834",
   "metadata": {},
   "outputs": [],
   "source": [
    "# repeated_task = repeat task1 for k1 in [1, 3, 5], reset=true\n",
    "phrasedml_str = '''\n",
    "  model1 = model \"/tmp/myModel\"\n",
    "  sim1 = simulate uniform(0, 5, 100)\n",
    "  task1 = run sim1 on model1\n",
    "  repeated_task1 = repeat task1 for k1 in [1, 3, 5], reset=True\n",
    "  report repeated_task1.time, repeated_task1.S1, repeated_task1.S2\n",
    "'''"
   ]
  },
  {
   "cell_type": "code",
   "execution_count": null,
   "id": "ea9b7d73-6615-4165-866e-bf02a544b8be",
   "metadata": {},
   "outputs": [],
   "source": [
    "#plot \"Figure 1\" time vs S1, S2\n",
    "\n",
    "# create the sedml xml string from the phrasedml\n",
    "#phrasedml.setReferencedSBML(\"/tmp/myModel\", sbml_str)\n",
    "\n",
    "sedml_str = phrasedml.convertString(phrasedml_str)\n",
    "if sedml_str == None:\n",
    "    print(phrasedml.getLastError())\n",
    "else:\n",
    "    print(sedml_str)\n",
    "    te.executeSEDML(sedml_str)\n",
    "    print(te.getLastReport())"
   ]
  },
  {
   "cell_type": "markdown",
   "id": "964b23fe-80f2-427f-807e-2a895becc65f",
   "metadata": {},
   "source": [
    "## Repeated Task2"
   ]
  },
  {
   "cell_type": "code",
   "execution_count": null,
   "id": "ecfb8a2e-55a2-4edf-8d4e-16aae6b9d08e",
   "metadata": {},
   "outputs": [],
   "source": [
    "phrasedml_str = '''\n",
    "model1 = model \"/tmp/myModel\"\n",
    "sim1 = simulate uniform(0, 10, 100)\n",
    "task1 = run sim1 on model1\n",
    "repeatedTask1 = repeat task1 for k1 in [0.1, 0.5, 1.0], k2 in [0.05, 0.1, 0.2], reset=true\n",
    "//plot \"Substrate Dynamics\" repeatedTask1.time vs repeatedTask1.S1\n",
    "plot repeatedTask1.S1 vs repeatedTask1.S2\n",
    "'''"
   ]
  },
  {
   "cell_type": "code",
   "execution_count": null,
   "id": "ee98f655-8b48-45da-8cd0-72f122004f5c",
   "metadata": {},
   "outputs": [],
   "source": [
    "sedml_str = phrasedml.convertString(phrasedml_str)\n",
    "if sedml_str == None:\n",
    "    print(phrasedml.getLastError())\n",
    "else:\n",
    "    print(sedml_str)\n",
    "    te.executeSEDML(sedml_str)"
   ]
  },
  {
   "cell_type": "markdown",
   "id": "0b078b0d-eac9-4fdd-b378-030879872db7",
   "metadata": {},
   "source": [
    "# Parameter Scan"
   ]
  },
  {
   "cell_type": "code",
   "execution_count": null,
   "id": "9c5ccf5c-a421-4e8f-b7e9-22d1eb10fafd",
   "metadata": {},
   "outputs": [],
   "source": [
    "phrasedml_str = '''\n",
    "  model_3 = model \"/tmp/myModel\"\n",
    "  sim_repeat = simulate onestep(3)\n",
    "  task_1 = run sim_repeat on model_3\n",
    "  repeatedtask_1 = repeat task_1 for k1 in [0.1, 5, 6, 1], k2 in [0.4, 0.6, 0.7, 0.8]\n",
    "  plot repeatedtask_1.k1 vs repeatedtask_1.S1, repeatedtask_1.S2\n",
    "  plot repeatedtask_1.k2 vs repeatedtask_1.S1, repeatedtask_1.S2\n",
    "  report repeatedtask_1.k1, repeatedtask_1.k2, repeatedtask_1.S1, repeatedtask_1.S2\n",
    "'''"
   ]
  },
  {
   "cell_type": "code",
   "execution_count": null,
   "id": "c178df4c-a19e-4ce5-bccb-971eede439f6",
   "metadata": {},
   "outputs": [],
   "source": [
    "df = execute(phrasedml_str)"
   ]
  },
  {
   "cell_type": "code",
   "execution_count": null,
   "id": "408c4d5f-7059-407f-92d4-9c86dc131a2a",
   "metadata": {},
   "outputs": [],
   "source": [
    "df.head(10)"
   ]
  },
  {
   "cell_type": "markdown",
   "id": "21aa927a-745f-4e59-a43a-d19f78b3a4c6",
   "metadata": {},
   "source": [
    "# Plots"
   ]
  },
  {
   "cell_type": "code",
   "execution_count": null,
   "id": "ccfc89e0-abad-4f69-8e5f-47abd7708dee",
   "metadata": {},
   "outputs": [],
   "source": [
    "antimony_str = '''\n",
    "model myModel\n",
    "  S1 -> S2; k1*S1\n",
    "  S2 -> S3; k2*S2\n",
    "  S1 = 10; S2 = 0; S3 = 0;\n",
    "  k1 = 1\n",
    "  k2 = 1\n",
    "end\n",
    "'''\n",
    "sbml_str = te.antimonyToSBML(antimony_str)\n",
    "with open(\"/tmp/myModel\", 'wb') as f:\n",
    "        f.write(sbml_str.encode('utf-8'))\n",
    "        f.flush()\n",
    "        print('SBML written to temporary file')"
   ]
  },
  {
   "cell_type": "code",
   "execution_count": null,
   "id": "8ef90b73-127d-427b-a46f-033981c3a3ba",
   "metadata": {},
   "outputs": [],
   "source": [
    "phrasedml_str = '''\n",
    "model1 = model \"/tmp/myModel\"\n",
    "sim1 = simulate uniform(0, 10, 100)\n",
    "task1 = run sim1 on model1\n",
    "repeatedTask1 = repeat task1 for k1 in [0.1, 0.5, 1.0], k2 in [0.05, 0.1, 0.2], reset=true\n",
    "//plot \"Substrate Dynamics\" repeatedTask1.time vs repeatedTask1.S1\n",
    "plot \"My plot\" repeatedTask1.time\n",
    "'''"
   ]
  },
  {
   "cell_type": "code",
   "execution_count": null,
   "id": "83c12ae8-4287-4ba8-9f62-5d5a9e9a6b0e",
   "metadata": {},
   "outputs": [],
   "source": [
    "sedml_str = phrasedml.convertString(phrasedml_str)\n",
    "if sedml_str == None:\n",
    "    print(phrasedml.getLastError())\n",
    "else:\n",
    "    #print(sedml_str)\n",
    "    te.executeSEDML(sedml_str)"
   ]
  },
  {
   "cell_type": "markdown",
   "id": "fa2fa9ec-0651-4d03-a4ee-9772d3661a41",
   "metadata": {},
   "source": [
    "# Steady State"
   ]
  },
  {
   "cell_type": "code",
   "execution_count": null,
   "id": "db0f1a02-abcf-4175-b2e4-40e7a2b07ece",
   "metadata": {},
   "outputs": [],
   "source": [
    "antimony_str = '''\n",
    "model myModel\n",
    "  S1 -> S2; k1*S1\n",
    "  S2 -> S1; k2*S2\n",
    "  S1 = 10; S2 = 0\n",
    "  k1 = 1\n",
    "  k2 = 2\n",
    "end\n",
    "'''\n",
    "MODEL_FILE = \"/tmp/my_model.xml\"\n",
    "sbml_str = te.antimonyToSBML(antimony_str)\n",
    "with open(MODEL_FILE, 'w') as f:\n",
    "    f.writelines(sbml_str)"
   ]
  },
  {
   "cell_type": "code",
   "execution_count": null,
   "id": "6944b5f5-fe48-4191-adf5-f5c2c7370a69",
   "metadata": {},
   "outputs": [],
   "source": [
    "phrasedml_str = '''\n",
    "  model1 = model \"%s\" with k1 =6\n",
    "  sim1 = simulate steadystate\n",
    "  task1 = run sim1 on model1\n",
    "  report S1, S2\n",
    "''' % MODEL_FILE\n",
    "print(phrasedml_str)"
   ]
  },
  {
   "cell_type": "code",
   "execution_count": null,
   "id": "fa4e47b3-ec72-4f90-9067-817983ea9a7a",
   "metadata": {},
   "outputs": [],
   "source": [
    "sedml_str = phrasedml.convertString(phrasedml_str)\n",
    "if sedml_str is None:\n",
    "    print(phrasedml.getLastError())\n",
    "else:\n",
    "    print(sedml_str)"
   ]
  },
  {
   "cell_type": "code",
   "execution_count": null,
   "id": "a56dd4b5-cc69-4609-a4fe-9e1c247c9f25",
   "metadata": {},
   "outputs": [],
   "source": [
    "te.executeSEDML(sedml_str)\n",
    "te.getLastReport()"
   ]
  },
  {
   "cell_type": "markdown",
   "id": "04d6eaf0-d179-404a-b279-3c96cda7cf90",
   "metadata": {},
   "source": [
    "## Steady State Bug"
   ]
  },
  {
   "cell_type": "code",
   "execution_count": null,
   "id": "e9a31cdf-b39c-44b9-a758-f3ed472af300",
   "metadata": {},
   "outputs": [],
   "source": []
  },
  {
   "cell_type": "code",
   "execution_count": 95,
   "id": "2a978c59-3eb3-4dc5-87f4-d189bbb99d4b",
   "metadata": {},
   "outputs": [
    {
     "data": {
      "image/png": "[encoded data removed]",
      "text/plain": [
       "<Figure size 900x600 with 1 Axes>"
      ]
     },
     "metadata": {},
     "output_type": "display_data"
    }
   ],
   "source": [
    "def makeSBMLFile(antimony_str:str, filename:str)->str:\n",
    "    path = os.path.join(\"/tmp\", filename)\n",
    "    sbml_str = te.antimonyToSBML(antimony_str)\n",
    "    with open(path, 'w') as f:\n",
    "        f.writelines(sbml_str)\n",
    "    return path\n",
    "\n",
    "MODEL = \"\"\"\n",
    "model myModel\n",
    "    S1 -> S2; k1*S1\n",
    "\n",
    "    k1 = 0.1\n",
    "    S1 = 10\n",
    "    S2 = 0\n",
    "end\n",
    "\"\"\"\n",
    "SBML_FILE = makeSBMLFile(MODEL, \"ss_bug.xml\")\n",
    "\n",
    "# Construct phrasedml\n",
    "phrasedml_str = '''\n",
    "mod1 = model \"/tmp/ss_bug.xml\" \n",
    "sim1 = simulate onestep(10)\n",
    "subtask = run sim1 on mod1\n",
    "repeated_task = repeat subtask for k1 in [0.1, 10, 100], reset=true\n",
    "plot repeated_task.k1 vs repeated_task.S1, repeated_task.S2\n",
    "'''\n",
    "\n",
    "# Execute the PhraSEDML\n",
    "workingDir = \"/tmp\"\n",
    "# Convert to SED-ML\n",
    "sedml_str = phrasedml.convertString(phrasedml_str)\n",
    "if sedml_str is None:\n",
    "    print(phrasedml.getLastError())\n",
    "else:\n",
    "    te.executeSEDML(sedml_str, workingDir=workingDir)"
   ]
  },
  {
   "cell_type": "code",
   "execution_count": 101,
   "id": "4ccbeeb7-28d4-47a6-ac00-528be30a909f",
   "metadata": {},
   "outputs": [
    {
     "name": "stdout",
     "output_type": "stream",
     "text": [
      "<?xml version=\"1.0\" encoding=\"UTF-8\"?>\n",
      "<!-- Created by phraSED-ML version v1.3.0 with libSBML version 5.19.5. -->\n",
      "<sedML xmlns=\"http://sed-ml.org/sed-ml/level1/version4\" xmlns:sbml=\"http://www.sbml.org/sbml/level3/version2/core\" level=\"1\" version=\"4\">\n",
      "  <listOfModels>\n",
      "    <model id=\"mod1\" language=\"urn:sedml:language:sbml.level-3.version-2\" source=\"/tmp/ss_bug.xml\"/>\n",
      "  </listOfModels>\n",
      "  <listOfSimulations>\n",
      "    <oneStep id=\"sim1\" step=\"10\">\n",
      "      <algorithm name=\"CVODE\" kisaoID=\"KISAO:0000019\"/>\n",
      "    </oneStep>\n",
      "  </listOfSimulations>\n",
      "  <listOfTasks>\n",
      "    <task id=\"subtask\" modelReference=\"mod1\" simulationReference=\"sim1\"/>\n",
      "    <repeatedTask id=\"repeated_task\" range=\"vector_for_k1\" resetModel=\"true\">\n",
      "      <listOfRanges>\n",
      "        <vectorRange id=\"vector_for_k1\">\n",
      "          <value> 0.1 </value>\n",
      "          <value> 10 </value>\n",
      "          <value> 100 </value>\n",
      "        </vectorRange>\n",
      "      </listOfRanges>\n",
      "      <listOfChanges>\n",
      "        <setValue modelReference=\"mod1\" target=\"/sbml:sbml/sbml:model/sbml:listOfParameters/sbml:parameter[@id='k1']\" range=\"vector_for_k1\">\n",
      "          <math xmlns=\"http://www.w3.org/1998/Math/MathML\">\n",
      "            <ci> vector_for_k1 </ci>\n",
      "          </math>\n",
      "        </setValue>\n",
      "      </listOfChanges>\n",
      "      <listOfSubTasks>\n",
      "        <subTask order=\"0\" task=\"subtask\"/>\n",
      "      </listOfSubTasks>\n",
      "    </repeatedTask>\n",
      "  </listOfTasks>\n",
      "  <listOfDataGenerators>\n",
      "    <dataGenerator id=\"plot_0_0_0\" name=\"repeated_task.k1\">\n",
      "      <math xmlns=\"http://www.w3.org/1998/Math/MathML\">\n",
      "        <ci> repeated_task_____k1 </ci>\n",
      "      </math>\n",
      "      <listOfVariables>\n",
      "        <variable id=\"repeated_task_____k1\" target=\"/sbml:sbml/sbml:model/sbml:listOfParameters/sbml:parameter[@id='k1']\" taskReference=\"repeated_task\" modelReference=\"mod1\"/>\n",
      "      </listOfVariables>\n",
      "    </dataGenerator>\n",
      "    <dataGenerator id=\"plot_0_0_1\" name=\"repeated_task.S1\">\n",
      "      <math xmlns=\"http://www.w3.org/1998/Math/MathML\">\n",
      "        <ci> repeated_task_____S1 </ci>\n",
      "      </math>\n",
      "      <listOfVariables>\n",
      "        <variable id=\"repeated_task_____S1\" target=\"/sbml:sbml/sbml:model/sbml:listOfSpecies/sbml:species[@id='S1']\" taskReference=\"repeated_task\" modelReference=\"mod1\"/>\n",
      "      </listOfVariables>\n",
      "    </dataGenerator>\n",
      "    <dataGenerator id=\"plot_0_1_1\" name=\"repeated_task.S2\">\n",
      "      <math xmlns=\"http://www.w3.org/1998/Math/MathML\">\n",
      "        <ci> repeated_task_____S2 </ci>\n",
      "      </math>\n",
      "      <listOfVariables>\n",
      "        <variable id=\"repeated_task_____S2\" target=\"/sbml:sbml/sbml:model/sbml:listOfSpecies/sbml:species[@id='S2']\" taskReference=\"repeated_task\" modelReference=\"mod1\"/>\n",
      "      </listOfVariables>\n",
      "    </dataGenerator>\n",
      "  </listOfDataGenerators>\n",
      "  <listOfOutputs>\n",
      "    <plot2D id=\"plot_0\">\n",
      "      <listOfCurves>\n",
      "        <curve id=\"plot_0__plot_0_0_0__plot_0_0_1\" logX=\"false\" xDataReference=\"plot_0_0_0\" logY=\"false\" yDataReference=\"plot_0_0_1\"/>\n",
      "        <curve id=\"plot_0__plot_0_0_0__plot_0_1_1\" logX=\"false\" xDataReference=\"plot_0_0_0\" logY=\"false\" yDataReference=\"plot_0_1_1\"/>\n",
      "      </listOfCurves>\n",
      "    </plot2D>\n",
      "  </listOfOutputs>\n",
      "</sedML>\n",
      "\n"
     ]
    }
   ],
   "source": [
    "print(sedml_str)"
   ]
  },
  {
   "cell_type": "code",
   "execution_count": 108,
   "id": "553b7d22-f733-4427-807f-ed6f9103d53c",
   "metadata": {},
   "outputs": [
    {
     "data": {
      "image/png": "[encoded data removed]",
      "text/plain": [
       "<Figure size 900x600 with 1 Axes>"
      ]
     },
     "metadata": {},
     "output_type": "display_data"
    }
   ],
   "source": [
    "new_sedml_str = \"\"\"\n",
    "<?xml version=\"1.0\" encoding=\"UTF-8\"?>\n",
    "<!-- Created by phraSED-ML version v1.3.0 with libSBML version 5.19.5. -->\n",
    "<sedML xmlns=\"http://sed-ml.org/sed-ml/level1/version4\" xmlns:sbml=\"http://www.sbml.org/sbml/level3/version2/core\" level=\"1\" version=\"4\">\n",
    "  <listOfModels>\n",
    "    <model id=\"mod1\" language=\"urn:sedml:language:sbml.level-3.version-2\" source=\"/tmp/ss_bug.xml\"/>\n",
    "  </listOfModels>\n",
    "  <listOfSimulations>\n",
    "    <oneStep id=\"sim1\" step=\"10\">\n",
    "      <algorithm name=\"CVODE\" kisaoID=\"KISAO:0000019\"/>\n",
    "    </oneStep>\n",
    "  </listOfSimulations>\n",
    "  <listOfTasks>\n",
    "    <task id=\"subtask\" modelReference=\"mod1\" simulationReference=\"sim1\"/>\n",
    "    <repeatedTask id=\"repeated_task\" range=\"vector_for_k1\" resetModel=\"true\">\n",
    "      <listOfRanges>\n",
    "        <vectorRange id=\"vector_for_k1\">\n",
    "          <value> 0.1 </value>\n",
    "          <value> 10 </value>\n",
    "          <value> 100 </value>\n",
    "        </vectorRange>\n",
    "      </listOfRanges>\n",
    "      <listOfChanges>\n",
    "        <setValue modelReference=\"mod1\" target=\"/sbml:sbml/sbml:model/sbml:listOfParameters/sbml:parameter[@id='k1']\" range=\"vector_for_k1\">\n",
    "          <math xmlns=\"http://www.w3.org/1998/Math/MathML\">\n",
    "            <ci> vector_for_k1 </ci>\n",
    "          </math>\n",
    "        </setValue>\n",
    "      </listOfChanges>\n",
    "      <listOfSubTasks>\n",
    "        <subTask order=\"0\" task=\"subtask\"/>\n",
    "      </listOfSubTasks>\n",
    "    </repeatedTask>\n",
    "  </listOfTasks>\n",
    "  <listOfDataGenerators>\n",
    "    <dataGenerator id=\"plot_0_0_0\" name=\"k1\">\n",
    "      <math xmlns=\"http://www.w3.org/1998/Math/MathML\">\n",
    "        <ci> repeated_task_____k1 </ci>\n",
    "      </math>\n",
    "      <listOfVariables>\n",
    "        <variable id=\"repeated_task_____k1\" target=\"/sbml:sbml/sbml:model/sbml:listOfParameters/sbml:parameter[@id='k1']\" taskReference=\"repeated_task\" modelReference=\"mod1\"/>\n",
    "      </listOfVariables>\n",
    "    </dataGenerator>\n",
    "    <dataGenerator id=\"plot_0_0_1\" name=\"S1\">\n",
    "      <math xmlns=\"http://www.w3.org/1998/Math/MathML\">\n",
    "        <ci> repeated_task_____S1 </ci>\n",
    "      </math>\n",
    "      <listOfVariables>\n",
    "        <variable id=\"repeated_task_____S1\" target=\"/sbml:sbml/sbml:model/sbml:listOfSpecies/sbml:species[@id='S1']\" taskReference=\"repeated_task\" modelReference=\"mod1\"/>\n",
    "      </listOfVariables>\n",
    "    </dataGenerator>\n",
    "    <dataGenerator id=\"S2\" name=\"S2\">\n",
    "      <math xmlns=\"http://www.w3.org/1998/Math/MathML\">\n",
    "        <ci> repeated_task_____S2 </ci>\n",
    "      </math>\n",
    "      <listOfVariables>\n",
    "        <variable id=\"repeated_task_____S2\" target=\"/sbml:sbml/sbml:model/sbml:listOfSpecies/sbml:species[@id='S2']\" taskReference=\"repeated_task\" modelReference=\"mod1\"/>\n",
    "      </listOfVariables>\n",
    "    </dataGenerator>\n",
    "  </listOfDataGenerators>\n",
    "  <listOfOutputs>\n",
    "    <plot2D id=\"plot_0\">\n",
    "      <listOfCurves>\n",
    "        <curve id=\"plot_0__plot_0_0_0__plot_0_0_1\" logX=\"false\" xDataReference=\"plot_0_0_0\" logY=\"false\" yDataReference=\"plot_0_0_1\"/>\n",
    "        <curve id=\"plot_0__plot_0_0_0__plot_0_1_1\" logX=\"false\" xDataReference=\"plot_0_0_0\" logY=\"false\" yDataReference=\"S2\"/>\n",
    "      </listOfCurves>\n",
    "    </plot2D>\n",
    "  </listOfOutputs>\n",
    "</sedML>\n",
    "\"\"\"\n",
    "new_sedml_str = new_sedml_str.replace('\\n', '')\n",
    "#print(new_sedml_str)\n",
    "te.executeSEDML(new_sedml_str, workingDir=workingDir)"
   ]
  },
  {
   "cell_type": "markdown",
   "id": "32c5d0b4-81eb-446d-97d6-cb11c26e5150",
   "metadata": {},
   "source": [
    "# Stochastic"
   ]
  },
  {
   "cell_type": "code",
   "execution_count": null,
   "id": "478b6cf3-1d81-4399-aacd-75ee7734549c",
   "metadata": {},
   "outputs": [],
   "source": [
    "phrasedml_str = '''\n",
    "  model1 = model \"%s\" with k1 =6\n",
    "  sim1 = simulate uniform_stochastic(0, 5, 1000)\n",
    "  task1 = run sim1 on model1\n",
    "  plot time vs S1, S2\n",
    "''' % MODEL_FILE\n",
    "print(phrasedml_str)"
   ]
  },
  {
   "cell_type": "code",
   "execution_count": null,
   "id": "521146c0-e3c7-48ef-aba2-302de6403b5b",
   "metadata": {},
   "outputs": [],
   "source": [
    "execute(phrasedml_str)"
   ]
  },
  {
   "cell_type": "markdown",
   "id": "dd1ea173-45c0-4a9e-ae9f-dd7dbe820f73",
   "metadata": {},
   "source": [
    "# Notes"
   ]
  },
  {
   "cell_type": "markdown",
   "id": "ffa440f8-2bde-45ea-a9c1-0d786ec452d8",
   "metadata": {},
   "source": [
    "1. To execute sedml in Tellurium, need to put the model in an SBML format in a file in a specified working directory.\n",
    "2. It may be that some part of the sedml workflow fails if the model file has multiple models, that the last model is selected."
   ]
  }
 ],
 "metadata": {
  "kernelspec": {
   "display_name": "Python 3 (ipykernel)",
   "language": "python",
   "name": "python3"
  },
  "language_info": {
   "codemirror_mode": {
    "name": "ipython",
    "version": 3
   },
   "file_extension": ".py",
   "mimetype": "text/x-python",
   "name": "python",
   "nbconvert_exporter": "python",
   "pygments_lexer": "ipython3",
   "version": "3.9.6"
  }
 },
 "nbformat": 4,
 "nbformat_minor": 5
}
