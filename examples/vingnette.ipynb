{
 "cells": [
  {
   "cell_type": "markdown",
   "id": "9c7444c0-7ad5-4cd5-be79-f9e1eb5b23ab",
   "metadata": {},
   "source": [
    "# SIMPLE SEDML VINGNETTE"
   ]
  },
  {
   "cell_type": "markdown",
   "id": "fc13fb3a-8061-4b8c-aaec-232997ff33e1",
   "metadata": {},
   "source": [
    "This notebook provides examples of using ``SimpleSBML``, a Python system for creating and validating Simulation Experiment Description Markup Language (SED-ML) descriptions of computational experiments for models written in the Systems Biology Markup Language (SBML) community standard.\n",
    "\n",
    "Throughout, we use the term **display variable** to refer to a subset of variables in the model that the user wants to observe (e.g., floating species). A **parameter scan** variable is a parameter of the model that is being varied to see its effect on display variables.\n",
    "\n",
    "SimpleSEDML provides APIs at two levels. The high level API is task oriented. Four tasks are considered. \n",
    "* Time course simulation for a single model. In this task, the user wants to see the interaction between display variables over time.\n",
    "* Time course simulation for multiple models. Here, the user wants to compare the time courses of the same display variable in different models.\n",
    "* Parameter scan for a single model. The user wants to see how display values are affected by changes in scan parameters.\n",
    "* Parameter scan for multiple models. The user wants to compare the effect on the same display variable in different models as a scan parameter is changed.\n",
    "\n",
    "The above use cases are encapsulated into 4 different API calls with optional parameters related to the simulation and changing values of the paramters of the model. These API calls produce an object with the following methods:\n",
    "* ``getSEDML`` produces SED-ML for the experiment.\n",
    "* ``getPhraSEDML`` produces the PhraSED-ML for the experiment.\n",
    "* ``execute`` returns a ``DataFrame`` and a plot of the variables specified in the constructor.\n",
    "* ``makeOMEXFile`` creates an omex file\n",
    "\n",
    "The low level API is essentially a python wrapper for PhraSED-ML, and is available from all objects produced in the high level API.\n",
    "\n",
    "Below, we illustrate each one of the high level APIs."
   ]
  },
  {
   "cell_type": "markdown",
   "id": "dcfc0f76-0f4b-4fe6-a6df-fd6e87e0c527",
   "metadata": {},
   "source": [
    "# Preliminaries"
   ]
  },
  {
   "cell_type": "code",
   "execution_count": null,
   "id": "0f330deb-2c90-4af8-b04b-4c76b0799b79",
   "metadata": {},
   "outputs": [
    {
     "name": "stderr",
     "output_type": "stream",
     "text": [
      "/Users/jlheller/home/Technical/repos/SimpleSEDML/ssed/lib/python3.9/site-packages/urllib3/__init__.py:35: NotOpenSSLWarning: urllib3 v2 only supports OpenSSL 1.1.1+, currently the 'ssl' module is compiled with 'LibreSSL 2.8.3'. See: https://github.com/urllib3/urllib3/issues/3020\n",
      "  warnings.warn(\n"
     ]
    }
   ],
   "source": [
    "# Handle execution locally and in Colab\n",
    "try:\n",
    "    import SimpleSEDML as ss\n",
    "except:\n",
    "    !pip install SimpleSEDML\n",
    "    import SimpleSEDML as ss\n",
    "import pandas as pd"
   ]
  },
  {
   "cell_type": "code",
   "execution_count": null,
   "id": "3f388d53-e0c8-466d-9752-2bf334c1a9b0",
   "metadata": {},
   "outputs": [],
   "source": [
    "MODEL_ANT = '''\n",
    "model myModel\n",
    "    J1: S1 -> S2; k1*S1\n",
    "    J2: S2 -> S3; k2*S2\n",
    "    \n",
    "    S1 = 10\n",
    "    S2 = 0\n",
    "    k1 = 1\n",
    "    k2 = 1\n",
    "\n",
    "    S1 is \"species1\"\n",
    "    S2 is \"species2\"\n",
    "end\n",
    "'''"
   ]
  },
  {
   "cell_type": "code",
   "execution_count": null,
   "id": "1c7268b6-4bc0-4e1e-85fe-5d6919027f3c",
   "metadata": {},
   "outputs": [],
   "source": [
    "MODEL2_ANT = '''\n",
    "model myModel\n",
    "    J1: S1 -> S2; k1*S1\n",
    "    J2: S2 -> S3; k2*S2\n",
    "    J3: S3 -> S1; k3*S3\n",
    "    \n",
    "    S1 = 10\n",
    "    S2 = 0\n",
    "    k1 = 1\n",
    "    k2 = 1\n",
    "    k3 = 0.1\n",
    "end\n",
    "'''"
   ]
  },
  {
   "cell_type": "markdown",
   "id": "2cfe98d0-b02d-4e95-b92b-6500628d0ac8",
   "metadata": {},
   "source": [
    "# Use Case 1: Single module time course"
   ]
  },
  {
   "cell_type": "markdown",
   "id": "bf862c70-706f-4854-a121-39f1f97df645",
   "metadata": {},
   "source": [
    "## Default parameters"
   ]
  },
  {
   "cell_type": "code",
   "execution_count": null,
   "id": "e4ed0b31-e4c3-4b68-afa6-9c356d00a02b",
   "metadata": {},
   "outputs": [],
   "source": [
    "?ss.makeSingleModelTimeCourse"
   ]
  },
  {
   "cell_type": "code",
   "execution_count": null,
   "id": "d9e23305-0e21-49ff-ba32-28752ea65c97",
   "metadata": {},
   "outputs": [],
   "source": [
    "smtc = ss.makeSingleModelTimeCourse(MODEL_ANT, title=\"My Plot\", num_point=100)"
   ]
  },
  {
   "cell_type": "code",
   "execution_count": null,
   "id": "b5772c43-0e64-409d-ac05-bb31d7cc9807",
   "metadata": {},
   "outputs": [],
   "source": [
    "print(smtc.getPhraSEDML())"
   ]
  },
  {
   "cell_type": "code",
   "execution_count": null,
   "id": "fdb17877-0af9-48be-a448-85bc3d0a3c62",
   "metadata": {},
   "outputs": [],
   "source": [
    "print(smtc.getSEDML())"
   ]
  },
  {
   "cell_type": "markdown",
   "id": "56f2eae5-8850-42d2-ba08-65acabdbcf7d",
   "metadata": {},
   "source": [
    "We can also look at the PhraSED-ML that gets generated by changing the object that gets returned."
   ]
  },
  {
   "cell_type": "code",
   "execution_count": null,
   "id": "96c0535d-07cd-422f-b1be-aba5b0553129",
   "metadata": {},
   "outputs": [],
   "source": [
    "print(smtc.getPhraSEDML())"
   ]
  },
  {
   "cell_type": "markdown",
   "id": "c0e3cd40-de17-4f36-b72c-445c6872f3bb",
   "metadata": {},
   "source": [
    "And we can execute the SEDML, getting both a plot and a DataFrame of time course values."
   ]
  },
  {
   "cell_type": "code",
   "execution_count": null,
   "id": "703c4504-f18b-49a3-870b-1376085b3909",
   "metadata": {},
   "outputs": [],
   "source": [
    "df = smtc.execute()"
   ]
  },
  {
   "cell_type": "code",
   "execution_count": null,
   "id": "aa8a0e4e-2330-4ed5-b70c-3a82f1aaa234",
   "metadata": {},
   "outputs": [],
   "source": [
    "df.head()"
   ]
  },
  {
   "cell_type": "code",
   "execution_count": null,
   "id": "7cfefcc7-0a4e-4f4f-82c6-8459af76abbb",
   "metadata": {},
   "outputs": [],
   "source": [
    "# Eliminate the temporary files\n",
    "smtc.cleanUp()"
   ]
  },
  {
   "cell_type": "markdown",
   "id": "f7bea2af-c060-4d63-92fd-63e39c6c125c",
   "metadata": {},
   "source": [
    "## Non-default arguments"
   ]
  },
  {
   "cell_type": "code",
   "execution_count": null,
   "id": "ed35e3a0-4e1d-43a9-a0b5-284eff6a2553",
   "metadata": {},
   "outputs": [],
   "source": [
    "WOLF_URL = \"https://www.ebi.ac.uk/biomodels/services/download/get-files/MODEL3352181362/3/BIOMD0000000206_url.xml\""
   ]
  },
  {
   "cell_type": "code",
   "execution_count": null,
   "id": "cf2bfd12-f8f3-47cd-9f61-10d746eaa6ee",
   "metadata": {},
   "outputs": [],
   "source": [
    "smtc = ss.makeSingleModelTimeCourse(WOLF_URL, num_point=1000)\n",
    "_ = smtc.execute()"
   ]
  },
  {
   "cell_type": "code",
   "execution_count": null,
   "id": "57d8f516-a267-4fb0-8bf0-77bf47d4b507",
   "metadata": {},
   "outputs": [],
   "source": [
    "ss.getModelInformation(WOLF_URL)"
   ]
  },
  {
   "cell_type": "code",
   "execution_count": null,
   "id": "04c2f60d-50e9-46be-bec7-b3f50f550f2f",
   "metadata": {},
   "outputs": [],
   "source": [
    "smtc = ss.makeSingleModelTimeCourse(WOLF_URL, model_parameter_dct=dict(k0=5, k1=55),\n",
    "            title=\"Wolf with new parameter values\")\n",
    "df = smtc.execute()"
   ]
  },
  {
   "cell_type": "code",
   "execution_count": null,
   "id": "e6450930-5a3b-4700-bff2-49f117267e67",
   "metadata": {
    "scrolled": true
   },
   "outputs": [],
   "source": [
    "df.head()"
   ]
  },
  {
   "cell_type": "code",
   "execution_count": null,
   "id": "16c5c5f6-83ec-4c4f-a3d1-63044d15179f",
   "metadata": {},
   "outputs": [],
   "source": [
    "smtc.cleanUp()"
   ]
  },
  {
   "cell_type": "markdown",
   "id": "36b4c4d0-e7b4-4616-9f59-0e46242d6e5e",
   "metadata": {},
   "source": [
    "# Use Case 2: Multiple Models Time Course"
   ]
  },
  {
   "cell_type": "markdown",
   "id": "9171ce1d-122e-46f1-9df5-0e8f7a19252b",
   "metadata": {},
   "source": [
    "When comparing the time course simulation of multiple models, we want to compare selected **display variables** from the models, either in plots or in a DataFrame. This is done with the  ``MultipleModelTimeCourse`` object."
   ]
  },
  {
   "cell_type": "code",
   "execution_count": null,
   "id": "4581e9d3-6809-499c-a9ba-de81d49f0b08",
   "metadata": {},
   "outputs": [],
   "source": [
    "mmtc = ss.makeMultipleModelTimeCourse([MODEL_ANT, MODEL2_ANT], model_parameter_dct=dict(k1=10), num_point=100)"
   ]
  },
  {
   "cell_type": "code",
   "execution_count": null,
   "id": "6f4627e9-18c8-4c2d-90da-b70f07109c76",
   "metadata": {},
   "outputs": [],
   "source": [
    "print(mmtc.getSEDML())"
   ]
  },
  {
   "cell_type": "code",
   "execution_count": null,
   "id": "f4cae706-7556-49d6-b086-f4c30c527aaf",
   "metadata": {},
   "outputs": [],
   "source": [
    "mmtc.execute()"
   ]
  },
  {
   "cell_type": "code",
   "execution_count": null,
   "id": "9f1ada15-033a-4b7b-9050-554df2fffc37",
   "metadata": {},
   "outputs": [],
   "source": [
    "mmtc.model_dct"
   ]
  },
  {
   "cell_type": "code",
   "execution_count": null,
   "id": "4d98d652-ef14-4483-94af-458031b023cb",
   "metadata": {},
   "outputs": [],
   "source": [
    "print(mmtc.getPhraSEDML())"
   ]
  },
  {
   "cell_type": "markdown",
   "id": "5e262448-8230-4887-a23a-8cb244c79680",
   "metadata": {},
   "source": [
    "## Creating an OMEX file"
   ]
  },
  {
   "cell_type": "markdown",
   "id": "089bb4ac-e814-4a32-bf0e-c26c8a7fc791",
   "metadata": {},
   "source": [
    "We can create an OMEX file for this experiment."
   ]
  },
  {
   "cell_type": "code",
   "execution_count": null,
   "id": "81107fb0-3dbd-46ef-b087-7be6ef8478d2",
   "metadata": {},
   "outputs": [],
   "source": [
    "omex_path, _ = mmtc.makeOMEXFile()\n",
    "omex_path"
   ]
  },
  {
   "cell_type": "code",
   "execution_count": null,
   "id": "ee104730-2c97-4ead-a358-c41419a5410b",
   "metadata": {},
   "outputs": [],
   "source": [
    "# We can examine the content of the OMEX file.\n",
    "!unzip -l project.omex"
   ]
  },
  {
   "cell_type": "code",
   "execution_count": null,
   "id": "79b940f8-59e1-4c49-9385-21b2afd04fc4",
   "metadata": {},
   "outputs": [],
   "source": [
    "mmtc.cleanUp()"
   ]
  },
  {
   "cell_type": "markdown",
   "id": "19b03ca9-d899-4f46-be39-64472ad03fdc",
   "metadata": {},
   "source": [
    "# Use Case 3: Single Model Parameter Scan"
   ]
  },
  {
   "cell_type": "code",
   "execution_count": null,
   "id": "d00d2cf5-e4e1-49c4-99dc-75e8e24660a5",
   "metadata": {},
   "outputs": [],
   "source": [
    "smps = ss.makeSingleModelParameterScan(WOLF_URL, simulation_type=\"onestep\",\n",
    "                                       project_id=\"Wolf\", title=\"Wolf\",\n",
    "        time_interval=10, display_variables=[\"at\", \"na\"], scan_parameter_dct=dict(k1=[50, 550, 5000]))\n",
    "print(smps.getPhraSEDML())\n",
    "_ = smps.execute()"
   ]
  },
  {
   "cell_type": "markdown",
   "id": "72d5af24-f7e3-4f1f-8a0b-1eac56a9803e",
   "metadata": {},
   "source": [
    "# Use Case 4: Multiple Model Parameter Scan"
   ]
  },
  {
   "cell_type": "code",
   "execution_count": null,
   "id": "1d108c0b-f978-4e63-b976-ab639292fe48",
   "metadata": {},
   "outputs": [],
   "source": [
    "scan_parameter_df = pd.DataFrame(dict(k1=[50, 550, 5000]))\n",
    "mmps = ss.makeMultipleModelParameterScan(scan_parameter_df,\n",
    "                                         model_refs=[WOLF_URL],\n",
    "                                         simulation_type=\"onestep\",\n",
    "                                         project_id=\"Wolf\", \n",
    "                                         title=\"Wolf\",\n",
    "                                         time_interval=10, \n",
    "                                         display_variables=['at', 'na'])\n"
   ]
  },
  {
   "cell_type": "code",
   "execution_count": null,
   "id": "8f9fca81-8682-4430-84f9-6b5238f6fd6d",
   "metadata": {},
   "outputs": [],
   "source": [
    "# We create additional models and they will be included in the simulations, plots and reports\n",
    "_ = mmps.addModel(\"k0_1\", WOLF_URL, parameter_dct=dict(k0=1))\n",
    "_ = mmps.addModel(\"k0_25\", WOLF_URL, parameter_dct=dict(k0=25))\n",
    "_ = mmps.addModel(\"k0_600\", WOLF_URL, parameter_dct=dict(k0=600))\n",
    "_ = mmps.addModel(\"k0_6000\", WOLF_URL, parameter_dct=dict(k0=6000))"
   ]
  },
  {
   "cell_type": "code",
   "execution_count": null,
   "id": "82b11d2d-b35d-40fd-9696-fad5bcf59906",
   "metadata": {},
   "outputs": [],
   "source": [
    "#print(smps.getPhraSEDML())\n",
    "_ = mmps.execute()"
   ]
  },
  {
   "cell_type": "markdown",
   "id": "dfda319e-354a-4b22-8de8-a23af99a719f",
   "metadata": {},
   "source": [
    "# Low Level API"
   ]
  },
  {
   "cell_type": "markdown",
   "id": "1251baf3-7273-477b-bb73-d5301c449a88",
   "metadata": {},
   "source": [
    "Below, we illustrate use of the low level API in isolation."
   ]
  },
  {
   "cell_type": "code",
   "execution_count": null,
   "id": "58d90dd9-942f-4aeb-94b1-352a81b65587",
   "metadata": {},
   "outputs": [],
   "source": [
    "# Make DataFrame of changes to model parameters\n",
    "parameter_df = pd.DataFrame(dict(k1=[1, 3], k2=[1, 3]))"
   ]
  },
  {
   "cell_type": "code",
   "execution_count": null,
   "id": "f3917974-a0e2-4adf-9e8e-737e4f1ef3e6",
   "metadata": {},
   "outputs": [],
   "source": [
    "ssed = ss.SimpleSEDML()\n",
    "ssed.addModel(\"model1\", MODEL_ANT, parameter_dct=dict(k1=3), ref_type=\"ant_str\", is_overwrite=True)\n",
    "ssed.addSimulation(\"sim1\", \"uniform\", start=0, end=1, num_step=50)\n",
    "ssed.addTask(\"task1\", \"model1\", \"sim1\")\n",
    "ssed.addRepeatedTask(\"repeated_task1\", \"task1\", parameter_df=parameter_df)\n",
    "ssed.addReport(\"task1.time\", \"task1.S1\", \"task1.S2\", \"task1.S3\")\n",
    "ssed.addPlot(\"repeated_task1.time\", \"repeated_task1.S2\", title=\"my plot\")\n",
    "result_df = ssed.execute()"
   ]
  },
  {
   "cell_type": "code",
   "execution_count": null,
   "id": "d5ee4ea8-4ba1-4152-8834-e56bb26dfecc",
   "metadata": {},
   "outputs": [],
   "source": [
    "print(ssed.getSEDML())"
   ]
  },
  {
   "cell_type": "code",
   "execution_count": null,
   "id": "ee7807cd-6544-413a-a0ab-3fd9b7140244",
   "metadata": {},
   "outputs": [],
   "source": [
    "ssed.cleanUp()"
   ]
  },
  {
   "cell_type": "markdown",
   "id": "65e808bb-a268-418f-933f-8ee65999c326",
   "metadata": {},
   "source": [
    "# Cleanup"
   ]
  },
  {
   "cell_type": "code",
   "execution_count": null,
   "id": "3cd914c8-01ba-4859-9ae9-1bae4c384512",
   "metadata": {},
   "outputs": [],
   "source": [
    "import os\n",
    "EXAMPLE_REMOVE_FILES = [\"project.omex\", \"project.omex\"]\n",
    "example_dir = os.getcwd()\n",
    "remove_files = [os.path.join(example_dir, f) for f in EXAMPLE_REMOVE_FILES]\n",
    "for ffile in remove_files:\n",
    "    if os.path.isfile(ffile):\n",
    "        os.remove(ffile)"
   ]
  }
 ],
 "metadata": {
  "kernelspec": {
   "display_name": "Python 3 (ipykernel)",
   "language": "python",
   "name": "python3"
  },
  "language_info": {
   "codemirror_mode": {
    "name": "ipython",
    "version": 3
   },
   "file_extension": ".py",
   "mimetype": "text/x-python",
   "name": "python",
   "nbconvert_exporter": "python",
   "pygments_lexer": "ipython3",
   "version": "3.9.6"
  }
 },
 "nbformat": 4,
 "nbformat_minor": 5
}
