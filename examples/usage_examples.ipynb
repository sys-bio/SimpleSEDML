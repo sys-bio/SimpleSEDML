{
 "cells": [
  {
   "cell_type": "markdown",
   "id": "9c7444c0-7ad5-4cd5-be79-f9e1eb5b23ab",
   "metadata": {},
   "source": [
    "# USAGE EXAMPLES FOR SIMPLESEDML"
   ]
  },
  {
   "cell_type": "markdown",
   "id": "fc13fb3a-8061-4b8c-aaec-232997ff33e1",
   "metadata": {},
   "source": [
    "This notebook provides examples of using ``SimpleSBML``.\n",
    "\n",
    "The initial emphasize is on time course simulations. A ``SingleModelTimeCourse`` object has one required parameter, the model. This can be an Antimony or SBML string or file or a URL. There are optional parameters related to the simulation and changing values of the paramters of the model. It has the following methods:\n",
    "* ``getSEDML``\n",
    "* ``getPhraSEDML``\n",
    "* ``execute``: returns a ``DataFrame`` and a plot of the variables specified in the constructor.\n",
    "* ``makeOMEXFile`` creates an omex file\n",
    "\n",
    "A ``MultipleModelTimeCourseObject`` has the same arguments as for ``SingleModelTimeCourse`` except that the one required argument is a list of models. It has the same methods as well. The only difference is that there is one plot for each variable specified in the constructor with a curve for each model.\n",
    "\n",
    "Some use cases are:\n",
    "1. Iteratively develop SEDML by use execute, and then generate desired SEDML.\n",
    "2. Generate PhraSEDML, edit it, and then generate SEDML from these edits."
   ]
  },
  {
   "cell_type": "code",
   "execution_count": 1,
   "id": "94cf809d-3a4e-4a41-98c3-9929a77e495b",
   "metadata": {},
   "outputs": [
    {
     "ename": "NameError",
     "evalue": "name 'os' is not defined",
     "output_type": "error",
     "traceback": [
      "\u001b[0;31m---------------------------------------------------------------------------\u001b[0m",
      "\u001b[0;31mNameError\u001b[0m                                 Traceback (most recent call last)",
      "Cell \u001b[0;32mIn[1], line 3\u001b[0m\n\u001b[1;32m      1\u001b[0m \u001b[38;5;66;03m# Source path (for github actions)\u001b[39;00m\n\u001b[1;32m      2\u001b[0m \u001b[38;5;28;01mimport\u001b[39;00m\u001b[38;5;250m \u001b[39m\u001b[38;5;21;01msys\u001b[39;00m\n\u001b[0;32m----> 3\u001b[0m project_path \u001b[38;5;241m=\u001b[39m \u001b[43mos\u001b[49m\u001b[38;5;241m.\u001b[39mpath\u001b[38;5;241m.\u001b[39mdirname(os\u001b[38;5;241m.\u001b[39mpath\u001b[38;5;241m.\u001b[39mdirname(os\u001b[38;5;241m.\u001b[39mpath\u001b[38;5;241m.\u001b[39mabspath(\u001b[38;5;124m\"\u001b[39m\u001b[38;5;124m__FILE__\u001b[39m\u001b[38;5;124m\"\u001b[39m)))\n\u001b[1;32m      4\u001b[0m src_path \u001b[38;5;241m=\u001b[39m os\u001b[38;5;241m.\u001b[39mpath\u001b[38;5;241m.\u001b[39mjoin(project_path, \u001b[38;5;124m\"\u001b[39m\u001b[38;5;124msrc\u001b[39m\u001b[38;5;124m\"\u001b[39m)\n\u001b[1;32m      5\u001b[0m sys\u001b[38;5;241m.\u001b[39mpath\u001b[38;5;241m.\u001b[39minsert(\u001b[38;5;241m0\u001b[39m, src_path)\n",
      "\u001b[0;31mNameError\u001b[0m: name 'os' is not defined"
     ]
    }
   ],
   "source": [
    "# Source path (for github actions)\n",
    "import sys\n",
    "import os\n",
    "project_path = os.path.dirname(os.path.dirname(os.path.abspath(\"__FILE__\")))\n",
    "src_path = os.path.join(project_path, \"src\")\n",
    "sys.path.insert(0, src_path)\n",
    "print(sys.path)"
   ]
  },
  {
   "cell_type": "code",
   "execution_count": null,
   "id": "0f330deb-2c90-4af8-b04b-4c76b0799b79",
   "metadata": {},
   "outputs": [],
   "source": [
    "# Handle execution locally and in Colab\n",
    "try:\n",
    "    import SimpleSEDML as ss\n",
    "except:\n",
    "    !pip install SimpleSEDML\n",
    "    import SimpleSEDML as ss\n",
    "import pandas as pd"
   ]
  },
  {
   "cell_type": "code",
   "execution_count": null,
   "id": "df1ed850-7df9-4fb0-9482-2dee90959fd4",
   "metadata": {},
   "outputs": [],
   "source": [
    "# Collect paths of files creates\n",
    "MODEL_SOURCES = []"
   ]
  },
  {
   "cell_type": "markdown",
   "id": "dcfc0f76-0f4b-4fe6-a6df-fd6e87e0c527",
   "metadata": {},
   "source": [
    "# Model"
   ]
  },
  {
   "cell_type": "code",
   "execution_count": null,
   "id": "3f388d53-e0c8-466d-9752-2bf334c1a9b0",
   "metadata": {},
   "outputs": [],
   "source": [
    "MODEL_ANT = '''\n",
    "model myModel\n",
    "    J1: S1 -> S2; k1*S1\n",
    "    J2: S2 -> S3; k2*S2\n",
    "    \n",
    "    S1 = 10\n",
    "    S2 = 0\n",
    "    k1 = 1\n",
    "    k2 = 1\n",
    "end\n",
    "'''"
   ]
  },
  {
   "cell_type": "code",
   "execution_count": null,
   "id": "1c7268b6-4bc0-4e1e-85fe-5d6919027f3c",
   "metadata": {},
   "outputs": [],
   "source": [
    "MODEL2_ANT = '''\n",
    "model myModel\n",
    "    J1: S1 -> S2; k1*S1\n",
    "    J2: S2 -> S3; k2*S2\n",
    "    J3: S3 -> S1; k3*S3\n",
    "    \n",
    "    S1 = 10\n",
    "    S2 = 0\n",
    "    k1 = 1\n",
    "    k2 = 1\n",
    "    k3 = 0.1\n",
    "end\n",
    "'''"
   ]
  },
  {
   "cell_type": "code",
   "execution_count": null,
   "id": "46790672-90d0-4b30-bc02-85af560675fe",
   "metadata": {},
   "outputs": [],
   "source": [
    "IS_PLOT = True"
   ]
  },
  {
   "cell_type": "code",
   "execution_count": null,
   "id": "affd0cc2-9fbf-463c-8db8-d47303f9de69",
   "metadata": {},
   "outputs": [],
   "source": [
    "if IS_PLOT:\n",
    "    dir(ss)"
   ]
  },
  {
   "cell_type": "markdown",
   "id": "2cfe98d0-b02d-4e95-b92b-6500628d0ac8",
   "metadata": {},
   "source": [
    "# Use Case 1: Single model with default arguments"
   ]
  },
  {
   "cell_type": "code",
   "execution_count": null,
   "id": "e4ed0b31-e4c3-4b68-afa6-9c356d00a02b",
   "metadata": {},
   "outputs": [],
   "source": [
    "if IS_PLOT:\n",
    "    ?ss.makeSingleModelTimeCourse"
   ]
  },
  {
   "cell_type": "code",
   "execution_count": null,
   "id": "d9e23305-0e21-49ff-ba32-28752ea65c97",
   "metadata": {},
   "outputs": [],
   "source": [
    "smtc = ss.makeSingleModelTimeCourse(MODEL_ANT, title=\"My Plot\", num_point=100, is_plot=IS_PLOT)"
   ]
  },
  {
   "cell_type": "code",
   "execution_count": null,
   "id": "fdb17877-0af9-48be-a448-85bc3d0a3c62",
   "metadata": {},
   "outputs": [],
   "source": [
    "if IS_PLOT:\n",
    "    print(smtc.getSEDML())"
   ]
  },
  {
   "cell_type": "markdown",
   "id": "56f2eae5-8850-42d2-ba08-65acabdbcf7d",
   "metadata": {},
   "source": [
    "We can also look at the PhraSED-ML that gets generated by changing the object that gets returned."
   ]
  },
  {
   "cell_type": "code",
   "execution_count": null,
   "id": "96c0535d-07cd-422f-b1be-aba5b0553129",
   "metadata": {},
   "outputs": [],
   "source": [
    "if IS_PLOT:\n",
    "    print(smtc.getPhraSEDML())"
   ]
  },
  {
   "cell_type": "markdown",
   "id": "c0e3cd40-de17-4f36-b72c-445c6872f3bb",
   "metadata": {},
   "source": [
    "And we can execute the SEDML, getting both a plot and a DataFrame of time course values."
   ]
  },
  {
   "cell_type": "code",
   "execution_count": null,
   "id": "703c4504-f18b-49a3-870b-1376085b3909",
   "metadata": {},
   "outputs": [],
   "source": [
    "df = smtc.execute()"
   ]
  },
  {
   "cell_type": "code",
   "execution_count": null,
   "id": "aa8a0e4e-2330-4ed5-b70c-3a82f1aaa234",
   "metadata": {},
   "outputs": [],
   "source": [
    "if IS_PLOT:\n",
    "    df.head()"
   ]
  },
  {
   "cell_type": "code",
   "execution_count": null,
   "id": "65b98c56-b276-422f-a520-ebdd5f02c774",
   "metadata": {},
   "outputs": [],
   "source": [
    "MODEL_SOURCES.extend(smtc.model_sources)"
   ]
  },
  {
   "cell_type": "markdown",
   "id": "f7bea2af-c060-4d63-92fd-63e39c6c125c",
   "metadata": {},
   "source": [
    "# Use Case 2: Single model with non-default arguments"
   ]
  },
  {
   "cell_type": "code",
   "execution_count": null,
   "id": "ed35e3a0-4e1d-43a9-a0b5-284eff6a2553",
   "metadata": {},
   "outputs": [],
   "source": [
    "WOLF_URL = \"https://www.ebi.ac.uk/biomodels/services/download/get-files/MODEL3352181362/3/BIOMD0000000206_url.xml\""
   ]
  },
  {
   "cell_type": "code",
   "execution_count": null,
   "id": "cf2bfd12-f8f3-47cd-9f61-10d746eaa6ee",
   "metadata": {},
   "outputs": [],
   "source": [
    "smtc = ss.makeSingleModelTimeCourse(WOLF_URL, num_point=1000, is_plot=IS_PLOT)\n",
    "MODEL_SOURCES.extend(smtc.model_sources)\n",
    "_ = smtc.execute()"
   ]
  },
  {
   "cell_type": "code",
   "execution_count": null,
   "id": "57d8f516-a267-4fb0-8bf0-77bf47d4b507",
   "metadata": {},
   "outputs": [],
   "source": [
    "if IS_PLOT:\n",
    "    ss.getModelInformation(WOLF_URL)"
   ]
  },
  {
   "cell_type": "code",
   "execution_count": null,
   "id": "04c2f60d-50e9-46be-bec7-b3f50f550f2f",
   "metadata": {},
   "outputs": [],
   "source": [
    "smtc = ss.makeSingleModelTimeCourse(WOLF_URL, k0=5, k1=55, title=\"Wolf with new parameter values\",\n",
    "        is_plot=IS_PLOT)\n",
    "df = smtc.execute()"
   ]
  },
  {
   "cell_type": "code",
   "execution_count": null,
   "id": "e6450930-5a3b-4700-bff2-49f117267e67",
   "metadata": {
    "scrolled": true
   },
   "outputs": [],
   "source": [
    "if IS_PLOT:\n",
    "    df.head()"
   ]
  },
  {
   "cell_type": "code",
   "execution_count": null,
   "id": "16c5c5f6-83ec-4c4f-a3d1-63044d15179f",
   "metadata": {},
   "outputs": [],
   "source": [
    "MODEL_SOURCES.extend(smtc.model_sources)"
   ]
  },
  {
   "cell_type": "markdown",
   "id": "36b4c4d0-e7b4-4616-9f59-0e46242d6e5e",
   "metadata": {},
   "source": [
    "# Use Case 3: Comparing the time course simulation of multiple models"
   ]
  },
  {
   "cell_type": "markdown",
   "id": "9171ce1d-122e-46f1-9df5-0e8f7a19252b",
   "metadata": {},
   "source": [
    "When comparing the time course simulation of multiple models, we want to compare selected **display variables** from the models, either in plots or in a DataFrame. This is done with the  ``MultipleModelTimeCourse`` object."
   ]
  },
  {
   "cell_type": "code",
   "execution_count": null,
   "id": "4581e9d3-6809-499c-a9ba-de81d49f0b08",
   "metadata": {},
   "outputs": [],
   "source": [
    "mmtc = ss.makeMultipleModelTimeCourse([MODEL_ANT, MODEL2_ANT], k1=10, num_point=100,\n",
    "                                     is_plot=IS_PLOT)"
   ]
  },
  {
   "cell_type": "code",
   "execution_count": null,
   "id": "f4cae706-7556-49d6-b086-f4c30c527aaf",
   "metadata": {},
   "outputs": [],
   "source": [
    "MODEL_SOURCES.extend(mmtc.model_sources)\n",
    "if IS_PLOT:\n",
    "    mmtc.execute()"
   ]
  },
  {
   "cell_type": "code",
   "execution_count": null,
   "id": "4d98d652-ef14-4483-94af-458031b023cb",
   "metadata": {},
   "outputs": [],
   "source": [
    "if IS_PLOT:\n",
    "    print(mmtc.getPhraSEDML())"
   ]
  },
  {
   "cell_type": "code",
   "execution_count": null,
   "id": "c16dd8ab-3799-468e-9a25-b691c0b8326e",
   "metadata": {},
   "outputs": [],
   "source": [
    "if IS_PLOT:\n",
    "    print(mmtc.getSEDML())"
   ]
  },
  {
   "cell_type": "markdown",
   "id": "5e262448-8230-4887-a23a-8cb244c79680",
   "metadata": {},
   "source": [
    "## Creating an OMEX file"
   ]
  },
  {
   "cell_type": "markdown",
   "id": "089bb4ac-e814-4a32-bf0e-c26c8a7fc791",
   "metadata": {},
   "source": [
    "We can create an OMEX file for this experiment."
   ]
  },
  {
   "cell_type": "code",
   "execution_count": null,
   "id": "81107fb0-3dbd-46ef-b087-7be6ef8478d2",
   "metadata": {},
   "outputs": [],
   "source": [
    "omex_path, _ = mmtc.makeOMEXFile()\n",
    "omex_path"
   ]
  },
  {
   "cell_type": "code",
   "execution_count": null,
   "id": "ee104730-2c97-4ead-a358-c41419a5410b",
   "metadata": {},
   "outputs": [],
   "source": [
    "if IS_PLOT:\n",
    "    !unzip -l project.omex"
   ]
  },
  {
   "cell_type": "code",
   "execution_count": null,
   "id": "79b940f8-59e1-4c49-9385-21b2afd04fc4",
   "metadata": {},
   "outputs": [],
   "source": [
    "MODEL_SOURCES.extend(mmtc.model_sources)"
   ]
  },
  {
   "cell_type": "markdown",
   "id": "c06d7014-4073-4c50-bd48-5a7e78b27388",
   "metadata": {},
   "source": [
    "# Under construction: Compare several parameters at steady state for a single model"
   ]
  },
  {
   "cell_type": "markdown",
   "id": "d8a8bd1c-0597-4717-a8fe-8a6b268db891",
   "metadata": {},
   "source": [
    "# Under construction: Compare stochastic simulations"
   ]
  },
  {
   "cell_type": "markdown",
   "id": "b670fb02-e510-4c90-90f1-a7471d8bbd55",
   "metadata": {},
   "source": [
    "# Under construction: Get data for several different simulations"
   ]
  },
  {
   "cell_type": "code",
   "execution_count": null,
   "id": "808f0a80-1153-43a7-b8f3-6321df9200a8",
   "metadata": {},
   "outputs": [],
   "source": [
    "# Compose an experiment\n",
    "ssed = ss.SimpleSEDML()\n",
    "ssed.addModel(\"model1\", MODEL_ANT, parameter_dct=dict(k1=3), ref_type=\"ant_str\", is_overwrite=True)\n",
    "ssed.addSimulation(\"sim1\", \"uniform\", start=0, end=1, num_step=50)\n",
    "ssed.addTask(\"task1\", \"model1\", \"sim1\")\n",
    "ssed.addReport(\"time\", \"S1\", \"S2\", \"S3\")\n",
    "ssed.addPlot(\"time\", \"S2\", title=\"my plot\", is_plot=IS_PLOT)"
   ]
  },
  {
   "cell_type": "code",
   "execution_count": null,
   "id": "ff2b0e43-d698-4a86-bd1a-78b00b892d51",
   "metadata": {},
   "outputs": [],
   "source": [
    "# Run the descript\n",
    "df = ssed.execute()"
   ]
  },
  {
   "cell_type": "code",
   "execution_count": null,
   "id": "f53b87ac-55e9-4088-b491-762106bfb84c",
   "metadata": {},
   "outputs": [],
   "source": [
    "if IS_PLOT:\n",
    "    df.head(10)"
   ]
  },
  {
   "cell_type": "code",
   "execution_count": null,
   "id": "5bf769ab-18b6-4e42-a890-9e2ec3a64044",
   "metadata": {},
   "outputs": [],
   "source": [
    "ssed.getAllModelInformation()"
   ]
  },
  {
   "cell_type": "code",
   "execution_count": null,
   "id": "918f16da-e3f0-49b1-aea4-86a33b74ac3b",
   "metadata": {},
   "outputs": [],
   "source": [
    "MODEL_SOURCES.extend(smtc.model_sources)"
   ]
  },
  {
   "cell_type": "markdown",
   "id": "dfda319e-354a-4b22-8de8-a23af99a719f",
   "metadata": {},
   "source": [
    "# Under construction: Repeated Tasks"
   ]
  },
  {
   "cell_type": "markdown",
   "id": "1251baf3-7273-477b-bb73-d5301c449a88",
   "metadata": {},
   "source": [
    "At present, the Tellurium execution of SED-ML only provides access to the last report for repeated tasks."
   ]
  },
  {
   "cell_type": "code",
   "execution_count": null,
   "id": "58d90dd9-942f-4aeb-94b1-352a81b65587",
   "metadata": {},
   "outputs": [],
   "source": [
    "# Make DataFrame of changes to model parameters\n",
    "parameter_df = pd.DataFrame(dict(k1=[1, 3], k2=[1, 3]))"
   ]
  },
  {
   "cell_type": "code",
   "execution_count": null,
   "id": "f3917974-a0e2-4adf-9e8e-737e4f1ef3e6",
   "metadata": {},
   "outputs": [],
   "source": [
    "ssed = ss.SimpleSEDML()\n",
    "ssed.addModel(\"model1\", MODEL_ANT, parameter_dct=dict(k1=3), ref_type=\"ant_str\", is_overwrite=True)\n",
    "ssed.addSimulation(\"sim1\", \"uniform\", start=0, end=1, num_step=50)\n",
    "ssed.addTask(\"task1\", \"model1\", \"sim1\")\n",
    "ssed.addRepeatedTask(\"repeated_task1\", \"task1\", parameter_df=parameter_df)\n",
    "ssed.addReport(\"task1.time\", \"task1.S1\", \"task1.S2\", \"task1.S3\")\n",
    "ssed.addPlot(\"repeated_task1.time\", \"repeated_task1.S2\", title=\"my plot\", is_plot=IS_PLOT)\n",
    "result_df = ssed.execute()"
   ]
  },
  {
   "cell_type": "code",
   "execution_count": null,
   "id": "d5ee4ea8-4ba1-4152-8834-e56bb26dfecc",
   "metadata": {},
   "outputs": [],
   "source": [
    "if IS_PLOT:\n",
    "    print(ssed.getSEDML())"
   ]
  },
  {
   "cell_type": "code",
   "execution_count": null,
   "id": "ee7807cd-6544-413a-a0ab-3fd9b7140244",
   "metadata": {},
   "outputs": [],
   "source": [
    "MODEL_SOURCES.extend(ssed.model_sources)"
   ]
  },
  {
   "cell_type": "markdown",
   "id": "65e808bb-a268-418f-933f-8ee65999c326",
   "metadata": {},
   "source": [
    "# Cleanup"
   ]
  },
  {
   "cell_type": "code",
   "execution_count": null,
   "id": "3cd914c8-01ba-4859-9ae9-1bae4c384512",
   "metadata": {},
   "outputs": [],
   "source": [
    "import os\n",
    "EXAMPLE_REMOVE_FILES = [\"simple_sedml_plot.png\", \"project.omex\", \"project.omex\"]\n",
    "example_dir = os.getcwd()\n",
    "remove_files = [os.path.join(example_dir, f) for f in EXAMPLE_REMOVE_FILES]\n",
    "remove_files.extend(MODEL_SOURCES)\n",
    "for ffile in remove_files:\n",
    "    if os.path.isfile(ffile):\n",
    "        os.remove(ffile)"
   ]
  }
 ],
 "metadata": {
  "kernelspec": {
   "display_name": "Python 3 (ipykernel)",
   "language": "python",
   "name": "python3"
  },
  "language_info": {
   "codemirror_mode": {
    "name": "ipython",
    "version": 3
   },
   "file_extension": ".py",
   "mimetype": "text/x-python",
   "name": "python",
   "nbconvert_exporter": "python",
   "pygments_lexer": "ipython3",
   "version": "3.9.6"
  }
 },
 "nbformat": 4,
 "nbformat_minor": 5
}
